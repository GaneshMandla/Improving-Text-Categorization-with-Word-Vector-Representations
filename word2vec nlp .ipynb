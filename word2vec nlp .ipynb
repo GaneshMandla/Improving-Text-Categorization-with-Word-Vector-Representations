{
 "cells": [
  {
   "cell_type": "code",
   "execution_count": 1,
   "id": "eca2342b",
   "metadata": {},
   "outputs": [],
   "source": [
    "import os\n",
    "import numpy as np\n",
    "# from nltk.corpus import stopwords\n",
    "from string import punctuation\n",
    "from gensim.models import word2vec"
   ]
  },
  {
   "cell_type": "code",
   "execution_count": 2,
   "id": "81807c7d",
   "metadata": {},
   "outputs": [],
   "source": [
    "import warnings\n",
    "warnings.filterwarnings('ignore')"
   ]
  },
  {
   "cell_type": "code",
   "execution_count": 3,
   "id": "9831eb0a",
   "metadata": {},
   "outputs": [],
   "source": [
    "np.random.seed(42)"
   ]
  },
  {
   "cell_type": "code",
   "execution_count": 4,
   "id": "aac3f5b9",
   "metadata": {},
   "outputs": [],
   "source": [
    "import spacy\n",
    "nlp = spacy.load(\"en_core_web_sm\")"
   ]
  },
  {
   "cell_type": "code",
   "execution_count": 5,
   "id": "6af7a73b",
   "metadata": {},
   "outputs": [],
   "source": [
    "train_data = \"C:\\\\Users\\\\user\\\\OneDrive\\\\Surgeclass\\\\word vector text\\\\train_data.csv\"\n",
    "test_data = \"C:\\\\Users\\\\user\\\\OneDrive\\\\Surgeclass\\\\word vector text\\\\test_data_new.csv\""
   ]
  },
  {
   "cell_type": "code",
   "execution_count": 6,
   "id": "9459b7f1",
   "metadata": {},
   "outputs": [
    {
     "name": "stdout",
     "output_type": "stream",
     "text": [
      "Total examples: 19999\n"
     ]
    }
   ],
   "source": [
    "import csv\n",
    "\n",
    "X = []\n",
    "y = []\n",
    "\n",
    "with open(train_data, \"r\") as infile:\n",
    "    reader = csv.reader(infile)\n",
    "    for row in reader:\n",
    "        if len(row) >= 2:\n",
    "            label = row[0]\n",
    "            text = row[1]\n",
    "            X.append(text.split())\n",
    "            y.append(label)\n",
    "print(\"Total examples: %s\" % len(y))\n"
   ]
  },
  {
   "cell_type": "code",
   "execution_count": 7,
   "id": "306c725a",
   "metadata": {},
   "outputs": [
    {
     "name": "stdout",
     "output_type": "stream",
     "text": [
      "['labels']\n"
     ]
    }
   ],
   "source": [
    "print(X[0])"
   ]
  },
  {
   "cell_type": "code",
   "execution_count": 8,
   "id": "6ca319f3",
   "metadata": {},
   "outputs": [
    {
     "data": {
      "text/plain": [
       "'I am not interested in cars or electric appliances .'"
      ]
     },
     "execution_count": 8,
     "metadata": {},
     "output_type": "execute_result"
    }
   ],
   "source": [
    "y[2]"
   ]
  },
  {
   "cell_type": "code",
   "execution_count": 10,
   "id": "385f3367",
   "metadata": {},
   "outputs": [
    {
     "name": "stdout",
     "output_type": "stream",
     "text": [
      "Total examples: 10025\n"
     ]
    }
   ],
   "source": [
    "import csv\n",
    "import numpy as np\n",
    "\n",
    "import csv\n",
    "\n",
    "X_test = []\n",
    "y_label = []\n",
    "\n",
    "with open(test_data, \"r\") as infile:\n",
    "    reader = csv.reader(infile)\n",
    "    for row in reader:\n",
    "        if len(row) >= 2:\n",
    "            label = row[0]\n",
    "            text = row[1]\n",
    "            X_test.append(text.split())\n",
    "            y_label.append(label)\n",
    "\n",
    "print(\"Total examples: %s\" % len(y_label))\n",
    "\n"
   ]
  },
  {
   "cell_type": "code",
   "execution_count": 11,
   "id": "37a471c5",
   "metadata": {},
   "outputs": [
    {
     "name": "stdout",
     "output_type": "stream",
     "text": [
      "['labels']\n"
     ]
    }
   ],
   "source": [
    "print(X_test[0])"
   ]
  },
  {
   "cell_type": "code",
   "execution_count": 12,
   "id": "27fce62e",
   "metadata": {},
   "outputs": [
    {
     "name": "stdout",
     "output_type": "stream",
     "text": [
      "I study English \n"
     ]
    }
   ],
   "source": [
    "print(y_label[127])"
   ]
  },
  {
   "cell_type": "code",
   "execution_count": 13,
   "id": "6ae40daa",
   "metadata": {},
   "outputs": [
    {
     "ename": "NameError",
     "evalue": "name 'y_test' is not defined",
     "output_type": "error",
     "traceback": [
      "\u001b[1;31m---------------------------------------------------------------------------\u001b[0m",
      "\u001b[1;31mNameError\u001b[0m                                 Traceback (most recent call last)",
      "Cell \u001b[1;32mIn[13], line 1\u001b[0m\n\u001b[1;32m----> 1\u001b[0m \u001b[38;5;28;01mif\u001b[39;00m \u001b[38;5;28mlen\u001b[39m(\u001b[43my_test\u001b[49m) \u001b[38;5;241m>\u001b[39m \u001b[38;5;241m0\u001b[39m:\n\u001b[0;32m      2\u001b[0m     \u001b[38;5;28mprint\u001b[39m(y_test[\u001b[38;5;241m0\u001b[39m])\n",
      "\u001b[1;31mNameError\u001b[0m: name 'y_test' is not defined"
     ]
    }
   ],
   "source": [
    "if len(y_test) > 0:\n",
    "    print(y_test[0])\n"
   ]
  },
  {
   "cell_type": "code",
   "execution_count": null,
   "id": "b008452c",
   "metadata": {},
   "outputs": [],
   "source": []
  },
  {
   "cell_type": "code",
   "execution_count": 14,
   "id": "01e30648",
   "metadata": {},
   "outputs": [
    {
     "name": "stdout",
     "output_type": "stream",
     "text": [
      "Shape of X: (19999, 1)\n",
      "Shape of X_test: (10025, 1)\n"
     ]
    }
   ],
   "source": [
    "import numpy as np\n",
    "\n",
    "X_array = np.array(X)\n",
    "X_test_array = np.array(X_test)\n",
    "\n",
    "X_shape = X_array.shape\n",
    "X_test_shape = X_test_array.shape\n",
    "\n",
    "print(\"Shape of X:\", X_shape)\n",
    "print(\"Shape of X_test:\", X_test_shape)\n"
   ]
  },
  {
   "cell_type": "code",
   "execution_count": 15,
   "id": "7e7a105f",
   "metadata": {},
   "outputs": [
    {
     "data": {
      "text/plain": [
       "(array([' ', \" ' Cause I believe there is a way you can love me\",\n",
       "        \" ' Geso ' means suqid is legs in Japanese .\", ...,\n",
       "        'you might be cryed from some relationships .', 'young answered',\n",
       "        'your heart might be hurt by thinking own lover too much .'],\n",
       "       dtype='<U1933'),\n",
       " array([75,  1,  1, ...,  1,  1,  1], dtype=int64))"
      ]
     },
     "execution_count": 15,
     "metadata": {},
     "output_type": "execute_result"
    }
   ],
   "source": [
    "np.unique(y, return_counts=True)"
   ]
  },
  {
   "cell_type": "code",
   "execution_count": 16,
   "id": "6ac1f1f1",
   "metadata": {},
   "outputs": [
    {
     "data": {
      "text/plain": [
       "(['labels'],)"
      ]
     },
     "execution_count": 16,
     "metadata": {},
     "output_type": "execute_result"
    }
   ],
   "source": [
    "X[0],"
   ]
  },
  {
   "cell_type": "code",
   "execution_count": 17,
   "id": "2994229a",
   "metadata": {},
   "outputs": [
    {
     "data": {
      "text/plain": [
       "'you can listening on podcast .'"
      ]
     },
     "execution_count": 17,
     "metadata": {},
     "output_type": "execute_result"
    }
   ],
   "source": [
    "y[561]"
   ]
  },
  {
   "cell_type": "code",
   "execution_count": 18,
   "id": "1f6e2ea3",
   "metadata": {},
   "outputs": [],
   "source": [
    "#WORD EMBEDDINGS"
   ]
  },
  {
   "cell_type": "code",
   "execution_count": 19,
   "id": "eddd2fa2",
   "metadata": {},
   "outputs": [
    {
     "name": "stdout",
     "output_type": "stream",
     "text": [
      "['fasttext-wiki-news-subwords-300', 'conceptnet-numberbatch-17-06-300', 'word2vec-ruscorpora-300', 'word2vec-google-news-300', 'glove-wiki-gigaword-50', 'glove-wiki-gigaword-100', 'glove-wiki-gigaword-200', 'glove-wiki-gigaword-300', 'glove-twitter-25', 'glove-twitter-50', 'glove-twitter-100', 'glove-twitter-200', '__testing_word2vec-matrix-synopsis']\n"
     ]
    }
   ],
   "source": [
    "import gensim\n",
    "import gensim.downloader as api\n",
    "print(list(gensim.downloader.info()['models'].keys()))"
   ]
  },
  {
   "cell_type": "code",
   "execution_count": 20,
   "id": "f3310747",
   "metadata": {},
   "outputs": [
    {
     "data": {
      "text/plain": [
       "[('birthday', 0.9478021860122681),\n",
       " ('day', 0.884091317653656),\n",
       " ('love', 0.8704721927642822),\n",
       " ('thank', 0.8623553514480591),\n",
       " ('wish', 0.8603642582893372),\n",
       " ('miss', 0.8560664653778076),\n",
       " ('bday', 0.8472115397453308),\n",
       " ('merry', 0.8461399078369141),\n",
       " ('welcome', 0.8427104949951172),\n",
       " ('hope', 0.8396720290184021)]"
      ]
     },
     "execution_count": 20,
     "metadata": {},
     "output_type": "execute_result"
    }
   ],
   "source": [
    "import gensim.downloader as api\n",
    "wv = api.load('glove-twitter-50')\n",
    "wv.most_similar('happy')"
   ]
  },
  {
   "cell_type": "code",
   "execution_count": 21,
   "id": "91d1418b",
   "metadata": {},
   "outputs": [
    {
     "data": {
      "text/plain": [
       "50"
      ]
     },
     "execution_count": 21,
     "metadata": {},
     "output_type": "execute_result"
    }
   ],
   "source": [
    "wv.vector_size"
   ]
  },
  {
   "cell_type": "code",
   "execution_count": 22,
   "id": "4881c55c",
   "metadata": {},
   "outputs": [],
   "source": [
    "import string\n",
    "stop_words = nlp.Defaults.stop_words\n",
    "punctuations = string.punctuation"
   ]
  },
  {
   "cell_type": "code",
   "execution_count": 23,
   "id": "f55e1ef5",
   "metadata": {},
   "outputs": [],
   "source": [
    "def sent_vec(sent,w2v):\n",
    "    vector_size = w2v.vector_size\n",
    "    wv_res = np.zeros(vector_size)\n",
    "    ctr = 1\n",
    "    for w in sent:\n",
    "        if w in w2v:\n",
    "            ctr += 1\n",
    "            wv_res += w2v[w]\n",
    "    wv_res = wv_res/ctr\n",
    "    return wv_res"
   ]
  },
  {
   "cell_type": "code",
   "execution_count": 24,
   "id": "b7b792e7",
   "metadata": {},
   "outputs": [
    {
     "data": {
      "text/plain": [
       "array([ 0.11221238,  0.08086875,  0.07783688, -0.038995  , -0.18682502,\n",
       "        0.17493849, -0.42813626,  0.18419874, -0.13961012, -0.1894935 ,\n",
       "       -0.18459575, -0.39523976, -2.99103752, -0.0456085 , -0.02529901,\n",
       "        0.33934125, -0.37086751, -0.10923225, -0.102813  ,  0.85966501,\n",
       "       -0.24663988, -0.36515624,  0.20198388,  0.03161625,  0.02450538,\n",
       "       -1.66976251, -0.04163662, -0.0357965 ,  0.26119274,  0.57394749,\n",
       "        0.04942275, -0.32102951,  0.13673   , -0.03791625,  0.52639925,\n",
       "        0.50934474, -0.22326875, -0.27457125, -0.59217638,  0.28203475,\n",
       "       -2.33953753,  0.19693125,  0.2576075 , -0.14676042,  0.259737  ,\n",
       "        0.10288475, -0.10105875, -0.08618125,  0.12835125, -0.84626376])"
      ]
     },
     "execution_count": 24,
     "metadata": {},
     "output_type": "execute_result"
    }
   ],
   "source": [
    "sent_vec(\"I am happy\",wv)"
   ]
  },
  {
   "cell_type": "code",
   "execution_count": 25,
   "id": "48921644",
   "metadata": {},
   "outputs": [
    {
     "name": "stdout",
     "output_type": "stream",
     "text": [
      "['labels']\n"
     ]
    }
   ],
   "source": [
    "print(X[0])"
   ]
  },
  {
   "cell_type": "code",
   "execution_count": 26,
   "id": "8fb71249",
   "metadata": {},
   "outputs": [],
   "source": [
    "train_doc_vecs = []\n",
    "for doc in X:\n",
    "    doc_words = [term for term in doc if term not in stop_words]\n",
    "    train_doc_vecs.append(sent_vec(doc_words,wv))"
   ]
  },
  {
   "cell_type": "code",
   "execution_count": 27,
   "id": "e35f671c",
   "metadata": {},
   "outputs": [
    {
     "data": {
      "text/plain": [
       "array([0., 0., 0., 0., 0., 0., 0., 0., 0., 0., 0., 0., 0., 0., 0., 0., 0.,\n",
       "       0., 0., 0., 0., 0., 0., 0., 0., 0., 0., 0., 0., 0., 0., 0., 0., 0.,\n",
       "       0., 0., 0., 0., 0., 0., 0., 0., 0., 0., 0., 0., 0., 0., 0., 0.])"
      ]
     },
     "execution_count": 27,
     "metadata": {},
     "output_type": "execute_result"
    }
   ],
   "source": [
    "train_doc_vecs[1]"
   ]
  },
  {
   "cell_type": "code",
   "execution_count": 28,
   "id": "e10d0c75",
   "metadata": {},
   "outputs": [],
   "source": [
    "test_doc_vecs = []\n",
    "for doc in X_test:\n",
    "    doc_words = [term for term in doc if term not in stop_words]\n",
    "    test_doc_vecs.append(sent_vec(doc_words,wv))"
   ]
  },
  {
   "cell_type": "code",
   "execution_count": 29,
   "id": "f9e35980",
   "metadata": {},
   "outputs": [
    {
     "data": {
      "text/plain": [
       "array([0., 0., 0., 0., 0., 0., 0., 0., 0., 0., 0., 0., 0., 0., 0., 0., 0.,\n",
       "       0., 0., 0., 0., 0., 0., 0., 0., 0., 0., 0., 0., 0., 0., 0., 0., 0.,\n",
       "       0., 0., 0., 0., 0., 0., 0., 0., 0., 0., 0., 0., 0., 0., 0., 0.])"
      ]
     },
     "execution_count": 29,
     "metadata": {},
     "output_type": "execute_result"
    }
   ],
   "source": [
    "test_doc_vecs[1]"
   ]
  },
  {
   "cell_type": "code",
   "execution_count": 30,
   "id": "e904cb5d",
   "metadata": {},
   "outputs": [],
   "source": [
    "# Building a predictive model on the averaged word vectors"
   ]
  },
  {
   "cell_type": "code",
   "execution_count": 31,
   "id": "980dc3c6",
   "metadata": {},
   "outputs": [],
   "source": [
    "from sklearn.linear_model import LogisticRegression\n",
    "from sklearn.metrics import accuracy_score"
   ]
  },
  {
   "cell_type": "code",
   "execution_count": 32,
   "id": "fd824040",
   "metadata": {},
   "outputs": [
    {
     "data": {
      "text/plain": [
       "array([ 0.159095  , -0.192035  , -0.19802   ,  0.42375499,  0.57480001,\n",
       "       -0.31494501,  0.12931   , -0.35712501,  0.43636   , -0.251625  ,\n",
       "        0.18810999, -0.0420895 , -1.11535001, -0.25597   , -0.16881999,\n",
       "        0.00445915, -0.188445  , -0.12794501,  0.70020002,  0.0234885 ,\n",
       "       -0.367845  , -0.035123  ,  0.00448865, -0.19622999, -0.03782   ,\n",
       "        0.57539999,  0.359     ,  0.46763   , -0.21997   , -0.28363499,\n",
       "        0.213165  ,  0.16571499, -0.251845  ,  0.24798   ,  0.28942499,\n",
       "       -0.5589    , -0.099105  ,  0.23275   ,  0.10925   ,  0.129365  ,\n",
       "        0.41346499,  0.1009    ,  0.018162  , -0.316645  , -0.112645  ,\n",
       "       -0.2757    ,  0.12529001, -0.0071815 , -0.232195  , -0.361985  ])"
      ]
     },
     "execution_count": 32,
     "metadata": {},
     "output_type": "execute_result"
    }
   ],
   "source": [
    "train_doc_vecs[0]"
   ]
  },
  {
   "cell_type": "code",
   "execution_count": 33,
   "id": "440e76fa",
   "metadata": {},
   "outputs": [
    {
     "data": {
      "text/plain": [
       "list"
      ]
     },
     "execution_count": 33,
     "metadata": {},
     "output_type": "execute_result"
    }
   ],
   "source": [
    "type(train_doc_vecs)"
   ]
  },
  {
   "cell_type": "code",
   "execution_count": 34,
   "id": "4dd70899",
   "metadata": {},
   "outputs": [
    {
     "data": {
      "text/html": [
       "<style>#sk-container-id-1 {color: black;background-color: white;}#sk-container-id-1 pre{padding: 0;}#sk-container-id-1 div.sk-toggleable {background-color: white;}#sk-container-id-1 label.sk-toggleable__label {cursor: pointer;display: block;width: 100%;margin-bottom: 0;padding: 0.3em;box-sizing: border-box;text-align: center;}#sk-container-id-1 label.sk-toggleable__label-arrow:before {content: \"▸\";float: left;margin-right: 0.25em;color: #696969;}#sk-container-id-1 label.sk-toggleable__label-arrow:hover:before {color: black;}#sk-container-id-1 div.sk-estimator:hover label.sk-toggleable__label-arrow:before {color: black;}#sk-container-id-1 div.sk-toggleable__content {max-height: 0;max-width: 0;overflow: hidden;text-align: left;background-color: #f0f8ff;}#sk-container-id-1 div.sk-toggleable__content pre {margin: 0.2em;color: black;border-radius: 0.25em;background-color: #f0f8ff;}#sk-container-id-1 input.sk-toggleable__control:checked~div.sk-toggleable__content {max-height: 200px;max-width: 100%;overflow: auto;}#sk-container-id-1 input.sk-toggleable__control:checked~label.sk-toggleable__label-arrow:before {content: \"▾\";}#sk-container-id-1 div.sk-estimator input.sk-toggleable__control:checked~label.sk-toggleable__label {background-color: #d4ebff;}#sk-container-id-1 div.sk-label input.sk-toggleable__control:checked~label.sk-toggleable__label {background-color: #d4ebff;}#sk-container-id-1 input.sk-hidden--visually {border: 0;clip: rect(1px 1px 1px 1px);clip: rect(1px, 1px, 1px, 1px);height: 1px;margin: -1px;overflow: hidden;padding: 0;position: absolute;width: 1px;}#sk-container-id-1 div.sk-estimator {font-family: monospace;background-color: #f0f8ff;border: 1px dotted black;border-radius: 0.25em;box-sizing: border-box;margin-bottom: 0.5em;}#sk-container-id-1 div.sk-estimator:hover {background-color: #d4ebff;}#sk-container-id-1 div.sk-parallel-item::after {content: \"\";width: 100%;border-bottom: 1px solid gray;flex-grow: 1;}#sk-container-id-1 div.sk-label:hover label.sk-toggleable__label {background-color: #d4ebff;}#sk-container-id-1 div.sk-serial::before {content: \"\";position: absolute;border-left: 1px solid gray;box-sizing: border-box;top: 0;bottom: 0;left: 50%;z-index: 0;}#sk-container-id-1 div.sk-serial {display: flex;flex-direction: column;align-items: center;background-color: white;padding-right: 0.2em;padding-left: 0.2em;position: relative;}#sk-container-id-1 div.sk-item {position: relative;z-index: 1;}#sk-container-id-1 div.sk-parallel {display: flex;align-items: stretch;justify-content: center;background-color: white;position: relative;}#sk-container-id-1 div.sk-item::before, #sk-container-id-1 div.sk-parallel-item::before {content: \"\";position: absolute;border-left: 1px solid gray;box-sizing: border-box;top: 0;bottom: 0;left: 50%;z-index: -1;}#sk-container-id-1 div.sk-parallel-item {display: flex;flex-direction: column;z-index: 1;position: relative;background-color: white;}#sk-container-id-1 div.sk-parallel-item:first-child::after {align-self: flex-end;width: 50%;}#sk-container-id-1 div.sk-parallel-item:last-child::after {align-self: flex-start;width: 50%;}#sk-container-id-1 div.sk-parallel-item:only-child::after {width: 0;}#sk-container-id-1 div.sk-dashed-wrapped {border: 1px dashed gray;margin: 0 0.4em 0.5em 0.4em;box-sizing: border-box;padding-bottom: 0.4em;background-color: white;}#sk-container-id-1 div.sk-label label {font-family: monospace;font-weight: bold;display: inline-block;line-height: 1.2em;}#sk-container-id-1 div.sk-label-container {text-align: center;}#sk-container-id-1 div.sk-container {/* jupyter's `normalize.less` sets `[hidden] { display: none; }` but bootstrap.min.css set `[hidden] { display: none !important; }` so we also need the `!important` here to be able to override the default hidden behavior on the sphinx rendered scikit-learn.org. See: https://github.com/scikit-learn/scikit-learn/issues/21755 */display: inline-block !important;position: relative;}#sk-container-id-1 div.sk-text-repr-fallback {display: none;}</style><div id=\"sk-container-id-1\" class=\"sk-top-container\"><div class=\"sk-text-repr-fallback\"><pre>LogisticRegression()</pre><b>In a Jupyter environment, please rerun this cell to show the HTML representation or trust the notebook. <br />On GitHub, the HTML representation is unable to render, please try loading this page with nbviewer.org.</b></div><div class=\"sk-container\" hidden><div class=\"sk-item\"><div class=\"sk-estimator sk-toggleable\"><input class=\"sk-toggleable__control sk-hidden--visually\" id=\"sk-estimator-id-1\" type=\"checkbox\" checked><label for=\"sk-estimator-id-1\" class=\"sk-toggleable__label sk-toggleable__label-arrow\">LogisticRegression</label><div class=\"sk-toggleable__content\"><pre>LogisticRegression()</pre></div></div></div></div></div>"
      ],
      "text/plain": [
       "LogisticRegression()"
      ]
     },
     "execution_count": 34,
     "metadata": {},
     "output_type": "execute_result"
    }
   ],
   "source": [
    "logreg = LogisticRegression()\n",
    "logreg.fit(train_doc_vecs,y)"
   ]
  },
  {
   "cell_type": "code",
   "execution_count": 35,
   "id": "2cfa5967",
   "metadata": {},
   "outputs": [
    {
     "name": "stdout",
     "output_type": "stream",
     "text": [
      "Train accuracy:  0.0038001900095004752\n"
     ]
    }
   ],
   "source": [
    "pred_train_ys = logreg.predict(train_doc_vecs)\n",
    "pred_test_ys = logreg.predict(test_doc_vecs)\n",
    "print(\"Train accuracy: \", accuracy_score(pred_train_ys, y))\n"
   ]
  },
  {
   "cell_type": "code",
   "execution_count": 37,
   "id": "bdcc98f5",
   "metadata": {},
   "outputs": [
    {
     "name": "stdout",
     "output_type": "stream",
     "text": [
      "Test accuracy:  0.0043890274314214465\n"
     ]
    }
   ],
   "source": [
    "\n",
    "#print(\"Test accuracy: \", accuracy_score(pred_test_ys, x_test))\n",
    "from sklearn.metrics import accuracy_score\n",
    "\n",
    "accuracy = accuracy_score(y_label, pred_test_ys)\n",
    "print(\"Test accuracy: \", accuracy)\n"
   ]
  },
  {
   "cell_type": "code",
   "execution_count": 38,
   "id": "9363bab1",
   "metadata": {},
   "outputs": [],
   "source": [
    "#Training our own wordvectors on the data"
   ]
  },
  {
   "cell_type": "code",
   "execution_count": 40,
   "id": "35bd2647",
   "metadata": {},
   "outputs": [
    {
     "data": {
      "text/plain": [
       "30024"
      ]
     },
     "execution_count": 40,
     "metadata": {},
     "output_type": "execute_result"
    }
   ],
   "source": [
    "x_comb = np.concatenate([y,y_label])\n",
    "len(x_comb)"
   ]
  },
  {
   "cell_type": "code",
   "execution_count": 41,
   "id": "92b46563",
   "metadata": {},
   "outputs": [
    {
     "name": "stdout",
     "output_type": "stream",
     "text": [
      "Fortunately , my older sister is friend is a dentist .\n"
     ]
    }
   ],
   "source": [
    "print(x_comb[5])"
   ]
  },
  {
   "cell_type": "code",
   "execution_count": 42,
   "id": "c47b1807",
   "metadata": {},
   "outputs": [
    {
     "data": {
      "text/plain": [
       "<gensim.models.word2vec.Word2Vec at 0x2e7a42672b0>"
      ]
     },
     "execution_count": 42,
     "metadata": {},
     "output_type": "execute_result"
    }
   ],
   "source": [
    "w2v = word2vec.Word2Vec(x_comb, window=2, min_count=2)\n",
    "w2v"
   ]
  },
  {
   "cell_type": "code",
   "execution_count": 43,
   "id": "ce4610d3",
   "metadata": {},
   "outputs": [],
   "source": [
    "#Getting the sentence vectors for the test and train sets"
   ]
  },
  {
   "cell_type": "code",
   "execution_count": 44,
   "id": "45e55cd7",
   "metadata": {},
   "outputs": [],
   "source": [
    "train_doc_vecs = []\n",
    "for doc in X:\n",
    "    doc_words = [term for term in doc if term not in stop_words]\n",
    "    train_doc_vecs.append(sent_vec(doc_words,w2v.wv))"
   ]
  },
  {
   "cell_type": "code",
   "execution_count": 45,
   "id": "6d1caf1d",
   "metadata": {},
   "outputs": [],
   "source": [
    "test_doc_vecs = []\n",
    "for doc in X_test:\n",
    "    doc_words = [term for term in doc if term not in stop_words]\n",
    "    test_doc_vecs.append(sent_vec(doc_words,w2v.wv))"
   ]
  },
  {
   "cell_type": "code",
   "execution_count": 46,
   "id": "34bfb4bf",
   "metadata": {},
   "outputs": [],
   "source": [
    "def fit_predict(algo):\n",
    "  algo.fit(train_doc_vecs,y)\n",
    "  pred_train_ys = algo.predict(train_doc_vecs)\n",
    "  pred_test_ys = algo.predict(test_doc_vecs)\n",
    "  print(\"Train accuracy: \", accuracy_score(pred_train_ys, y))\n",
    "  print(\"Test accuracy: \", accuracy_score(pred_test_ys, y_label))"
   ]
  },
  {
   "cell_type": "code",
   "execution_count": 47,
   "id": "c764488c",
   "metadata": {},
   "outputs": [
    {
     "name": "stdout",
     "output_type": "stream",
     "text": [
      "Train accuracy:  0.0037501875093754688\n",
      "Test accuracy:  0.00428927680798005\n"
     ]
    }
   ],
   "source": [
    "from sklearn.linear_model import LogisticRegression\n",
    "algo = LogisticRegression()\n",
    "fit_predict(algo)"
   ]
  },
  {
   "cell_type": "code",
   "execution_count": 48,
   "id": "5442595b",
   "metadata": {},
   "outputs": [
    {
     "name": "stdout",
     "output_type": "stream",
     "text": [
      "Train accuracy:  0.0037501875093754688\n",
      "Test accuracy:  0.00428927680798005\n"
     ]
    }
   ],
   "source": [
    "from sklearn.ensemble import RandomForestClassifier\n",
    "rf = RandomForestClassifier()\n",
    "fit_predict(rf)"
   ]
  },
  {
   "cell_type": "code",
   "execution_count": null,
   "id": "1c0fb730",
   "metadata": {},
   "outputs": [],
   "source": []
  },
  {
   "cell_type": "code",
   "execution_count": null,
   "id": "6f4971d0",
   "metadata": {},
   "outputs": [],
   "source": []
  },
  {
   "cell_type": "code",
   "execution_count": null,
   "id": "ad7e2af1",
   "metadata": {},
   "outputs": [],
   "source": []
  },
  {
   "cell_type": "code",
   "execution_count": null,
   "id": "34a9f7b3",
   "metadata": {},
   "outputs": [],
   "source": []
  },
  {
   "cell_type": "code",
   "execution_count": null,
   "id": "08010480",
   "metadata": {},
   "outputs": [],
   "source": []
  },
  {
   "cell_type": "code",
   "execution_count": null,
   "id": "b684a8f3",
   "metadata": {},
   "outputs": [],
   "source": []
  },
  {
   "cell_type": "code",
   "execution_count": null,
   "id": "208a7669",
   "metadata": {},
   "outputs": [],
   "source": []
  },
  {
   "cell_type": "code",
   "execution_count": null,
   "id": "d10b4030",
   "metadata": {},
   "outputs": [],
   "source": []
  }
 ],
 "metadata": {
  "kernelspec": {
   "display_name": "Python 3 (ipykernel)",
   "language": "python",
   "name": "python3"
  },
  "language_info": {
   "codemirror_mode": {
    "name": "ipython",
    "version": 3
   },
   "file_extension": ".py",
   "mimetype": "text/x-python",
   "name": "python",
   "nbconvert_exporter": "python",
   "pygments_lexer": "ipython3",
   "version": "3.9.12"
  }
 },
 "nbformat": 4,
 "nbformat_minor": 5
}
